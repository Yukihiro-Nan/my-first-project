{
  "nbformat": 4,
  "nbformat_minor": 0,
  "metadata": {
    "colab": {
      "provenance": [],
      "authorship_tag": "ABX9TyPJ16TbUjDR9YUMIYOYo3Jt",
      "include_colab_link": true
    },
    "kernelspec": {
      "name": "python3",
      "display_name": "Python 3"
    },
    "language_info": {
      "name": "python"
    }
  },
  "cells": [
    {
      "cell_type": "markdown",
      "metadata": {
        "id": "view-in-github",
        "colab_type": "text"
      },
      "source": [
        "<a href=\"https://colab.research.google.com/github/Yukihiro-Nan/my-first-project/blob/main/Untitled0.ipynb\" target=\"_parent\"><img src=\"https://colab.research.google.com/assets/colab-badge.svg\" alt=\"Open In Colab\"/></a>"
      ]
    },
    {
      "cell_type": "code",
      "execution_count": 21,
      "metadata": {
        "colab": {
          "base_uri": "https://localhost:8080/"
        },
        "id": "WfdMYjcerEbp",
        "outputId": "6b9ad7a1-4334-40cb-bd09-5dc391f04625"
      },
      "outputs": [
        {
          "output_type": "stream",
          "name": "stdout",
          "text": [
            "じゃんけんスタート\n",
            "自分の手を入れてね！\n",
            "０（グー）と１（チョキ）と２（パー）のどれ？1\n",
            "自分は 1 ：相手は 2\n",
            "勝ち\n"
          ]
        }
      ],
      "source": [
        "import random\n",
        "\n",
        "def jstart():\n",
        "  print('じゃんけんスタート')\n",
        "\n",
        "def jibun():\n",
        "  print('自分の手を入れてね！')\n",
        "  return int(input('０（グー）と１（チョキ）と２（パー）のどれ？'))\n",
        "\n",
        "def aite():\n",
        "  return random.randint(0,2)\n",
        "\n",
        "def kekka(sabun):\n",
        "  if sabun == 0:\n",
        "    print('あいこ')\n",
        "  elif sabun == -1 or sabun == 2:\n",
        "    print('勝ち')\n",
        "  else:\n",
        "    print('負け')\n",
        "\n",
        "\n",
        "jstart()\n",
        "jibunte = jibun()\n",
        "aitete = aite()\n",
        "print('自分は',jibunte,'：相手は',aitete)\n",
        "sabun=jibunte-aitete\n",
        "kekka(sabun)\n"
      ]
    }
  ]
}